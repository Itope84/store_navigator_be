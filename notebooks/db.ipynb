{
 "cells": [
  {
   "cell_type": "code",
   "execution_count": null,
   "metadata": {},
   "outputs": [],
   "source": [
    "%pip install -r requirements.txt"
   ]
  },
  {
   "cell_type": "code",
   "execution_count": null,
   "metadata": {},
   "outputs": [],
   "source": [
    "from app import db, create_app\n",
    "from app.models import Store\n",
    "\n",
    "app = create_app()"
   ]
  },
  {
   "cell_type": "code",
   "execution_count": null,
   "metadata": {},
   "outputs": [],
   "source": [
    "new_store = Store(\n",
    "    name=\"Tesco\",\n",
    "    address=\"123 Market St\",\n",
    "    logo=\"http://example.com/logo.png\",\n",
    "    floor_plan=\"floor_plan.svg\",\n",
    ")\n",
    "\n",
    "with app.app_context():\n",
    "    db.session.add(new_store)\n",
    "    db.session.commit()"
   ]
  },
  {
   "cell_type": "code",
   "execution_count": 1,
   "metadata": {},
   "outputs": [
    {
     "name": "stdout",
     "output_type": "stream",
     "text": [
      "[<Store 0e35e6fd-5e2a-4988-a95c-aa370e5b33b3>]\n"
     ]
    }
   ],
   "source": [
    "with app.app_context():\n",
    "    # get all stores\n",
    "    stores = Store.query.all()\n",
    "    print(stores)"
   ]
  },
  {
   "cell_type": "code",
   "execution_count": null,
   "metadata": {},
   "outputs": [],
   "source": [
    "# load category_sections.json\n",
    "\n",
    "import json\n",
    "from app.models import Shelf\n",
    "\n",
    "store = stores[0]\n",
    "\n",
    "with app.app_context(), open('category_sections.json') as f:\n",
    "    data = json.load(f)\n",
    "\n",
    "    for section in data:\n",
    "        shelf = Shelf(\n",
    "            subcategory_name=section[\"category\"],\n",
    "            section=section[\"division\"],\n",
    "            shelf_number=section[\"shelf\"],\n",
    "            store_id=store.id\n",
    "        )\n",
    "\n",
    "        db.session.add(shelf)\n",
    "    db.session.commit()"
   ]
  },
  {
   "cell_type": "code",
   "execution_count": 2,
   "metadata": {},
   "outputs": [
    {
     "name": "stdout",
     "output_type": "stream",
     "text": [
      "[]\n"
     ]
    }
   ],
   "source": [
    "from app.models import Shelf\n",
    "\n",
    "with app.app_context():\n",
    "    # get all stores\n",
    "    shelves = Shelf.query.all()\n",
    "    shelf_map = {shelf.subcategory_name: shelf.id for shelf in shelves}\n",
    "    \n",
    "    print(shelves[0].products)"
   ]
  },
  {
   "cell_type": "code",
   "execution_count": 5,
   "metadata": {
    "scrolled": false
   },
   "outputs": [
    {
     "name": "stderr",
     "output_type": "stream",
     "text": [
      "/var/folders/_j/w3zq6ycj0sqbl49tfqth4wq80000gn/T/ipykernel_38956/1191359281.py:17: LegacyAPIWarning: The Query.get() method is considered legacy as of the 1.x series of SQLAlchemy and becomes a legacy construct in 2.0. The method is now available as Session.get() (deprecated since: 2.0) (Background on SQLAlchemy 2.0 at: https://sqlalche.me/e/b8d9)\n",
      "  shelf = Shelf.query.get(shelf_id)\n",
      "/var/folders/_j/w3zq6ycj0sqbl49tfqth4wq80000gn/T/ipykernel_38956/1191359281.py:26: LegacyAPIWarning: The Query.get() method is considered legacy as of the 1.x series of SQLAlchemy and becomes a legacy construct in 2.0. The method is now available as Session.get() (deprecated since: 2.0) (Background on SQLAlchemy 2.0 at: https://sqlalche.me/e/b8d9)\n",
      "  p.shelves.append(Shelf.query.get(shelf_id))\n"
     ]
    },
    {
     "name": "stdout",
     "output_type": "stream",
     "text": [
      "products seeded\n"
     ]
    }
   ],
   "source": [
    "import pandas as pd\n",
    "import numpy as np\n",
    "\n",
    "from app import db\n",
    "from app.models import Product, Shelf\n",
    "\n",
    "# load data\n",
    "data = pd.read_csv('app/tesco_groceries_dataset.csv')\n",
    "\n",
    "# put data in products\n",
    "\n",
    "with app.app_context():\n",
    "    for index, row in data.iterrows():\n",
    "        shelf_name = row['breadcrumbs'].split('~')[-2]\n",
    "        shelf_id = shelf_map[shelf_name]\n",
    "        \n",
    "        shelf = Shelf.query.get(shelf_id)\n",
    "        \n",
    "        p = Product(\n",
    "            name=row[\"name\"],\n",
    "            price=row[\"price\"],\n",
    "#             description=row[\"description\"],\n",
    "            image=row[\"images\"].split('~')[0]\n",
    "        )\n",
    "        \n",
    "        p.shelves.append(Shelf.query.get(shelf_id))\n",
    "        db.session.add(p)\n",
    "            \n",
    "    db.session.commit()\n",
    "    print(\"products seeded\")\n"
   ]
  },
  {
   "cell_type": "code",
   "execution_count": 7,
   "metadata": {},
   "outputs": [
    {
     "name": "stdout",
     "output_type": "stream",
     "text": [
      "Kiddylicious Smoothie Melts Mango 6G\n"
     ]
    }
   ],
   "source": [
    "from app.models import Shelf\n",
    "\n",
    "with app.app_context():\n",
    "    shelves = Shelf.query.all()\n",
    "    products = shelves[0].products\n",
    "    print(products[0].name)"
   ]
  },
  {
   "cell_type": "code",
   "execution_count": null,
   "metadata": {},
   "outputs": [],
   "source": []
  }
 ],
 "metadata": {
  "kernelspec": {
   "display_name": "Python 3 (ipykernel)",
   "language": "python",
   "name": "python3"
  },
  "language_info": {
   "codemirror_mode": {
    "name": "ipython",
    "version": 3
   },
   "file_extension": ".py",
   "mimetype": "text/x-python",
   "name": "python",
   "nbconvert_exporter": "python",
   "pygments_lexer": "ipython3",
   "version": "3.9.13"
  }
 },
 "nbformat": 4,
 "nbformat_minor": 2
}
